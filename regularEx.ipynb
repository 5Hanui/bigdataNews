{
 "cells": [
  {
   "cell_type": "code",
   "execution_count": 5,
   "metadata": {},
   "outputs": [
    {
     "name": "stdout",
     "output_type": "stream",
     "text": [
      "[('모바일', 'Noun'), ('프리미엄', 'Noun'), ('마트', 'Noun'), ('‘', 'Foreign'), ('마켓', 'Noun'), ('컬리', 'Noun'), ('’', 'Punctuation'), ('운영', 'Noun'), ('사', 'Noun'), ('컬리', 'Noun'), ('가', 'Josa'), ('1천억원', 'Number'), ('규모', 'Noun'), ('시리즈', 'Noun'), ('D', 'Alpha'), ('투자', 'Noun'), ('를', 'Josa'), ('받았다', 'Verb'), ('.', 'Punctuation')]\n",
      "[('\\n\\n', 'Foreign'), ('이번', 'Noun'), ('시리즈', 'Noun'), ('D', 'Alpha'), ('는', 'Verb'), ('기존', 'Noun'), ('투자', 'Noun'), ('처', 'Noun'), ('인', 'Josa'), ('국내외', 'Noun'), ('주요', 'Noun'), ('투자', 'Noun'), ('사가', 'Noun'), ('재', 'Noun'), ('참여', 'Noun'), ('했다', 'Verb'), ('.', 'Punctuation')]\n",
      "[('마켓', 'Noun'), ('컬리', 'Noun'), ('는', 'Josa'), ('이번', 'Noun'), ('투자', 'Noun'), ('유치', 'Noun'), ('금액', 'Noun'), ('을', 'Josa'), ('빠르게', 'Adjective'), ('확장', 'Noun'), ('된', 'Verb'), ('규모', 'Noun'), ('에', 'Josa'), ('걸', 'Noun'), ('맞은', 'Verb'), ('안정', 'Noun'), ('적', 'Suffix'), ('인', 'Josa'), ('서비스', 'Noun'), ('퀄리티', 'Noun'), ('를', 'Josa'), ('유지', 'Noun'), ('하는데', 'Verb'), ('집중', 'Noun'), ('투자', 'Noun'), ('할', 'Verb'), ('계획', 'Noun'), ('이다', 'Josa'), ('.', 'Punctuation')]\n",
      "[('\\n\\n', 'Foreign'), ('이번', 'Noun'), ('투자', 'Noun'), ('에', 'Josa'), ('참여', 'Noun'), ('한', 'Josa'), ('세', 'Modifier'), ('콰', 'Noun'), ('이어', 'Verb'), ('캐피탈', 'Noun'), ('차이나', 'Noun'), ('의', 'Josa'), ('투자', 'Noun'), ('담당', 'Noun'), ('심사', 'Noun'), ('역', 'Noun'), ('티', 'Noun'), ('안티', 'Noun'), ('안', 'Noun'), ('허는', 'Verb'), ('“', 'Foreign'), ('마켓', 'Noun'), ('컬리', 'Noun'), ('는', 'Josa'), ('빠르게', 'Adjective'), ('성장하는', 'Adjective'), ('온라인', 'Noun'), ('신선', 'Noun'), ('식품', 'Noun'), ('시장', 'Noun'), ('에서', 'Josa'), ('선두', 'Noun'), ('주자', 'Noun'), ('로', 'Josa'), ('그', 'Noun'), ('존재', 'Noun'), ('감', 'Noun'), ('을', 'Josa'), ('확실히', 'Adjective'), ('드러내고', 'Verb'), ('있다', 'Adjective'), ('”', 'Foreign'), ('라며', 'Noun'), ('“', 'Foreign'), ('지속', 'Noun'), ('적', 'Suffix'), ('으로', 'Josa'), ('컬리', 'Noun'), ('를', 'Josa'), ('지원', 'Noun'), ('할', 'Verb'), ('계획', 'Noun'), ('”', 'Foreign'), ('이라고', 'Josa'), ('밝혔다', 'Verb'), ('.', 'Punctuation')]\n"
     ]
    }
   ],
   "source": [
    "from konlpy.tag import Okt\n",
    "from konlpy.utils import pprint\n",
    "from newspaper import Article\n",
    "import re\n",
    "\n",
    "url = \"http://www.bloter.net/archives/335773\"\n",
    "\n",
    "news = Article(url, language = 'ko')\n",
    "news.download()\n",
    "news.parse()\n",
    "\n",
    "sentence = re.findall(r\"([^.]*?투자[^.]*\\.)\",news.text)\n",
    "okt = Okt()\n",
    "\n",
    "for line in sentence:\n",
    "    print(okt.pos(line))\n",
    "\n"
   ]
  },
  {
   "cell_type": "code",
   "execution_count": null,
   "metadata": {},
   "outputs": [],
   "source": []
  },
  {
   "cell_type": "code",
   "execution_count": null,
   "metadata": {},
   "outputs": [],
   "source": []
  }
 ],
 "metadata": {
  "kernelspec": {
   "display_name": "Python 3",
   "language": "python",
   "name": "python3"
  },
  "language_info": {
   "codemirror_mode": {
    "name": "ipython",
    "version": 3
   },
   "file_extension": ".py",
   "mimetype": "text/x-python",
   "name": "python",
   "nbconvert_exporter": "python",
   "pygments_lexer": "ipython3",
   "version": "3.6.1"
  }
 },
 "nbformat": 4,
 "nbformat_minor": 2
}
